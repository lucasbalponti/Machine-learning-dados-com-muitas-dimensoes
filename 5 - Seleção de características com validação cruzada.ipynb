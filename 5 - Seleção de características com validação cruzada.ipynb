{
 "cells": [
  {
   "cell_type": "code",
   "execution_count": 2,
   "metadata": {},
   "outputs": [],
   "source": [
    "# Importando as bibliotecas necessárias\n",
    "import pandas as pd\n",
    "import numpy as np\n",
    "\n",
    "from sklearn.feature_selection import RFECV\n",
    "from sklearn.model_selection import train_test_split\n",
    "from sklearn.ensemble import RandomForestClassifier\n",
    "from sklearn.metrics import confusion_matrix, accuracy_score, precision_score, recall_score\n",
    "\n",
    "import seaborn as sns\n",
    "import matplotlib.pyplot as plt"
   ]
  },
  {
   "cell_type": "code",
   "execution_count": 3,
   "metadata": {},
   "outputs": [
    {
     "data": {
      "text/html": [
       "<div>\n",
       "<style scoped>\n",
       "    .dataframe tbody tr th:only-of-type {\n",
       "        vertical-align: middle;\n",
       "    }\n",
       "\n",
       "    .dataframe tbody tr th {\n",
       "        vertical-align: top;\n",
       "    }\n",
       "\n",
       "    .dataframe thead th {\n",
       "        text-align: right;\n",
       "    }\n",
       "</style>\n",
       "<table border=\"1\" class=\"dataframe\">\n",
       "  <thead>\n",
       "    <tr style=\"text-align: right;\">\n",
       "      <th></th>\n",
       "      <th>id</th>\n",
       "      <th>diagnostico</th>\n",
       "      <th>exame_2</th>\n",
       "      <th>exame_5</th>\n",
       "      <th>exame_6</th>\n",
       "      <th>exame_7</th>\n",
       "      <th>exame_8</th>\n",
       "      <th>exame_9</th>\n",
       "      <th>exame_10</th>\n",
       "      <th>exame_11</th>\n",
       "      <th>...</th>\n",
       "      <th>exame_20</th>\n",
       "      <th>exame_21</th>\n",
       "      <th>exame_23</th>\n",
       "      <th>exame_25</th>\n",
       "      <th>exame_26</th>\n",
       "      <th>exame_27</th>\n",
       "      <th>exame_28</th>\n",
       "      <th>exame_30</th>\n",
       "      <th>exame_31</th>\n",
       "      <th>exame_32</th>\n",
       "    </tr>\n",
       "  </thead>\n",
       "  <tbody>\n",
       "    <tr>\n",
       "      <th>0</th>\n",
       "      <td>842302</td>\n",
       "      <td>M</td>\n",
       "      <td>10.38</td>\n",
       "      <td>1001.0</td>\n",
       "      <td>0.11840</td>\n",
       "      <td>0.27760</td>\n",
       "      <td>0.3001</td>\n",
       "      <td>0.14710</td>\n",
       "      <td>0.2419</td>\n",
       "      <td>0.07871</td>\n",
       "      <td>...</td>\n",
       "      <td>0.03003</td>\n",
       "      <td>0.006193</td>\n",
       "      <td>17.33</td>\n",
       "      <td>2019.0</td>\n",
       "      <td>0.1622</td>\n",
       "      <td>0.6656</td>\n",
       "      <td>0.7119</td>\n",
       "      <td>0.2654</td>\n",
       "      <td>0.4601</td>\n",
       "      <td>0.11890</td>\n",
       "    </tr>\n",
       "    <tr>\n",
       "      <th>1</th>\n",
       "      <td>842517</td>\n",
       "      <td>M</td>\n",
       "      <td>17.77</td>\n",
       "      <td>1326.0</td>\n",
       "      <td>0.08474</td>\n",
       "      <td>0.07864</td>\n",
       "      <td>0.0869</td>\n",
       "      <td>0.07017</td>\n",
       "      <td>0.1812</td>\n",
       "      <td>0.05667</td>\n",
       "      <td>...</td>\n",
       "      <td>0.01389</td>\n",
       "      <td>0.003532</td>\n",
       "      <td>23.41</td>\n",
       "      <td>1956.0</td>\n",
       "      <td>0.1238</td>\n",
       "      <td>0.1866</td>\n",
       "      <td>0.2416</td>\n",
       "      <td>0.1860</td>\n",
       "      <td>0.2750</td>\n",
       "      <td>0.08902</td>\n",
       "    </tr>\n",
       "    <tr>\n",
       "      <th>2</th>\n",
       "      <td>84300903</td>\n",
       "      <td>M</td>\n",
       "      <td>21.25</td>\n",
       "      <td>1203.0</td>\n",
       "      <td>0.10960</td>\n",
       "      <td>0.15990</td>\n",
       "      <td>0.1974</td>\n",
       "      <td>0.12790</td>\n",
       "      <td>0.2069</td>\n",
       "      <td>0.05999</td>\n",
       "      <td>...</td>\n",
       "      <td>0.02250</td>\n",
       "      <td>0.004571</td>\n",
       "      <td>25.53</td>\n",
       "      <td>1709.0</td>\n",
       "      <td>0.1444</td>\n",
       "      <td>0.4245</td>\n",
       "      <td>0.4504</td>\n",
       "      <td>0.2430</td>\n",
       "      <td>0.3613</td>\n",
       "      <td>0.08758</td>\n",
       "    </tr>\n",
       "    <tr>\n",
       "      <th>3</th>\n",
       "      <td>84348301</td>\n",
       "      <td>M</td>\n",
       "      <td>20.38</td>\n",
       "      <td>386.1</td>\n",
       "      <td>0.14250</td>\n",
       "      <td>0.28390</td>\n",
       "      <td>0.2414</td>\n",
       "      <td>0.10520</td>\n",
       "      <td>0.2597</td>\n",
       "      <td>0.09744</td>\n",
       "      <td>...</td>\n",
       "      <td>0.05963</td>\n",
       "      <td>0.009208</td>\n",
       "      <td>26.50</td>\n",
       "      <td>567.7</td>\n",
       "      <td>0.2098</td>\n",
       "      <td>0.8663</td>\n",
       "      <td>0.6869</td>\n",
       "      <td>0.2575</td>\n",
       "      <td>0.6638</td>\n",
       "      <td>0.17300</td>\n",
       "    </tr>\n",
       "    <tr>\n",
       "      <th>4</th>\n",
       "      <td>84358402</td>\n",
       "      <td>M</td>\n",
       "      <td>14.34</td>\n",
       "      <td>1297.0</td>\n",
       "      <td>0.10030</td>\n",
       "      <td>0.13280</td>\n",
       "      <td>0.1980</td>\n",
       "      <td>0.10430</td>\n",
       "      <td>0.1809</td>\n",
       "      <td>0.05883</td>\n",
       "      <td>...</td>\n",
       "      <td>0.01756</td>\n",
       "      <td>0.005115</td>\n",
       "      <td>16.67</td>\n",
       "      <td>1575.0</td>\n",
       "      <td>0.1374</td>\n",
       "      <td>0.2050</td>\n",
       "      <td>0.4000</td>\n",
       "      <td>0.1625</td>\n",
       "      <td>0.2364</td>\n",
       "      <td>0.07678</td>\n",
       "    </tr>\n",
       "  </tbody>\n",
       "</table>\n",
       "<p>5 rows × 28 columns</p>\n",
       "</div>"
      ],
      "text/plain": [
       "         id diagnostico  exame_2  exame_5  exame_6  exame_7  exame_8  exame_9   \n",
       "0    842302           M    10.38   1001.0  0.11840  0.27760   0.3001  0.14710  \\\n",
       "1    842517           M    17.77   1326.0  0.08474  0.07864   0.0869  0.07017   \n",
       "2  84300903           M    21.25   1203.0  0.10960  0.15990   0.1974  0.12790   \n",
       "3  84348301           M    20.38    386.1  0.14250  0.28390   0.2414  0.10520   \n",
       "4  84358402           M    14.34   1297.0  0.10030  0.13280   0.1980  0.10430   \n",
       "\n",
       "   exame_10  exame_11  ...  exame_20  exame_21  exame_23  exame_25  exame_26   \n",
       "0    0.2419   0.07871  ...   0.03003  0.006193     17.33    2019.0    0.1622  \\\n",
       "1    0.1812   0.05667  ...   0.01389  0.003532     23.41    1956.0    0.1238   \n",
       "2    0.2069   0.05999  ...   0.02250  0.004571     25.53    1709.0    0.1444   \n",
       "3    0.2597   0.09744  ...   0.05963  0.009208     26.50     567.7    0.2098   \n",
       "4    0.1809   0.05883  ...   0.01756  0.005115     16.67    1575.0    0.1374   \n",
       "\n",
       "   exame_27  exame_28  exame_30  exame_31  exame_32  \n",
       "0    0.6656    0.7119    0.2654    0.4601   0.11890  \n",
       "1    0.1866    0.2416    0.1860    0.2750   0.08902  \n",
       "2    0.4245    0.4504    0.2430    0.3613   0.08758  \n",
       "3    0.8663    0.6869    0.2575    0.6638   0.17300  \n",
       "4    0.2050    0.4000    0.1625    0.2364   0.07678  \n",
       "\n",
       "[5 rows x 28 columns]"
      ]
     },
     "execution_count": 3,
     "metadata": {},
     "output_type": "execute_result"
    }
   ],
   "source": [
    "# Importando a base de dados (antes de reduzí-lo à 5 características):\n",
    "base = pd.read_csv(r'exames-tratado-3.csv', index_col=0)\n",
    "base.head()"
   ]
  },
  {
   "cell_type": "code",
   "execution_count": 7,
   "metadata": {},
   "outputs": [],
   "source": [
    "# Dividindo dados em input e output\n",
    "x = base.loc[:,'exame_2':].copy()\n",
    "y = base['diagnostico']\n",
    "\n",
    "alt_dict = {\n",
    "    'B': 0,\n",
    "    'M': 1\n",
    "}\n",
    "y_binario = [alt_dict[x] for x in y]"
   ]
  },
  {
   "cell_type": "code",
   "execution_count": 9,
   "metadata": {},
   "outputs": [],
   "source": [
    "# Definindo a seed\n",
    "SEED = 30"
   ]
  },
  {
   "cell_type": "code",
   "execution_count": 8,
   "metadata": {},
   "outputs": [
    {
     "data": {
      "text/plain": [
       "array(['exame_2', 'exame_5', 'exame_7', 'exame_8', 'exame_9', 'exame_12',\n",
       "       'exame_14', 'exame_15', 'exame_16', 'exame_18', 'exame_23',\n",
       "       'exame_25', 'exame_26', 'exame_27', 'exame_28', 'exame_30',\n",
       "       'exame_31'], dtype=object)"
      ]
     },
     "execution_count": 8,
     "metadata": {},
     "output_type": "execute_result"
    }
   ],
   "source": [
    "np.random.seed(SEED)\n",
    "\n",
    "# Dividindo dados em treino e teste\n",
    "x_train, x_test, y_train, y_test = train_test_split(x, y_binario, test_size=0.3)\n",
    "\n",
    "# Criando o classificador\n",
    "rfc = RandomForestClassifier(n_estimators=100)\n",
    "rfc.fit(x_train, y_train)\n",
    "\n",
    "# Criando o selecionador de características\n",
    "selector = RFECV(estimator=rfc, cv=5, step = 1, scoring = 'recall')\n",
    "selector.fit(x_train, y_train)\n",
    "\n",
    "# Verificando as características selecionadas\n",
    "selector.get_feature_names_out()"
   ]
  },
  {
   "cell_type": "code",
   "execution_count": 12,
   "metadata": {},
   "outputs": [
    {
     "name": "stdout",
     "output_type": "stream",
     "text": [
      "Acurácia: 96.49%\n",
      "Precisão: 98.28%\n",
      "Recall: 91.94%\n"
     ]
    },
    {
     "data": {
      "image/png": "[encoded data removed]",
      "text/plain": [
       "<Figure size 640x480 with 2 Axes>"
      ]
     },
     "metadata": {},
     "output_type": "display_data"
    }
   ],
   "source": [
    "# Testando um modelo utilizando apenas as características filtradas:\n",
    "\n",
    "np.random.seed(SEED)\n",
    "\n",
    "# Dividindo dados em treino e teste\n",
    "x_train2, x_test2, y_train2, y_test2 = train_test_split(x[list(selector.get_feature_names_out())], y_binario, test_size=0.3)\n",
    "\n",
    "# Criando o classificador\n",
    "rfc2 = RandomForestClassifier(n_estimators=100)\n",
    "rfc2.fit(x_train2, y_train2)\n",
    "\n",
    "# Realizando a previsão\n",
    "previsao = rfc2.predict(x_test2)\n",
    "\n",
    "# Calculando as métricas para esse modelo:\n",
    "acuracia = accuracy_score(y_test2, previsao)*100\n",
    "precisao = precision_score(y_test2, previsao)*100\n",
    "recall = recall_score(y_test2, previsao)*100\n",
    "matriz_confusao = confusion_matrix(y_test2, previsao)\n",
    "\n",
    "print(f'Acurácia: {acuracia:.2f}%')\n",
    "print(f'Precisão: {precisao:.2f}%')\n",
    "print(f'Recall: {recall:.2f}%')\n",
    "\n",
    "sns.heatmap(matriz_confusao, annot = True, fmt='d').set(xlabel = 'Predição', ylabel = 'Real')\n",
    "plt.show()"
   ]
  },
  {
   "cell_type": "code",
   "execution_count": 17,
   "metadata": {},
   "outputs": [
    {
     "data": {
      "image/png": "[encoded data removed]",
      "text/plain": [
       "<Figure size 640x480 with 1 Axes>"
      ]
     },
     "metadata": {},
     "output_type": "display_data"
    }
   ],
   "source": [
    "# Verificando o valor de recall para diferentes quantidades de características (valor médio das diversas partições realizadas pelo algoritmo, não o valor final do modelo)\n",
    "\n",
    "sns.lineplot(x = range(1, len(selector.cv_results_['mean_test_score']) + 1), y = selector.cv_results_['mean_test_score'])\n",
    "\n",
    "plt.show()\n"
   ]
  }
 ],
 "metadata": {
  "kernelspec": {
   "display_name": "Python 3",
   "language": "python",
   "name": "python3"
  },
  "language_info": {
   "codemirror_mode": {
    "name": "ipython",
    "version": 3
   },
   "file_extension": ".py",
   "mimetype": "text/x-python",
   "name": "python",
   "nbconvert_exporter": "python",
   "pygments_lexer": "ipython3",
   "version": "3.11.0"
  },
  "orig_nbformat": 4
 },
 "nbformat": 4,
 "nbformat_minor": 2
}
