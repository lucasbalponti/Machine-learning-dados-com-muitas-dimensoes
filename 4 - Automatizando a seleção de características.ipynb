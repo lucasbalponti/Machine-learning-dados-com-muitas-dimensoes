{
 "cells": [
  {
   "cell_type": "code",
   "execution_count": 89,
   "metadata": {},
   "outputs": [],
   "source": [
    "# Importando as bibliotecas necessárias\n",
    "import pandas as pd\n",
    "import numpy as np\n",
    "\n",
    "from sklearn.feature_selection import SelectKBest\n",
    "from sklearn.feature_selection import f_classif\n",
    "from sklearn.feature_selection import RFE\n",
    "from sklearn.model_selection import train_test_split\n",
    "from sklearn.ensemble import RandomForestClassifier\n",
    "from sklearn.metrics import confusion_matrix, accuracy_score, precision_score, recall_score\n",
    "\n",
    "import seaborn as sns\n",
    "import matplotlib.pyplot as plt"
   ]
  },
  {
   "cell_type": "code",
   "execution_count": 90,
   "metadata": {},
   "outputs": [],
   "source": [
    "# Lendo a base de dados\n",
    "base = pd.read_csv(r'exames-tratado-3.csv')\n",
    "base = base.drop('Unnamed: 0', axis = 1)"
   ]
  },
  {
   "cell_type": "code",
   "execution_count": 91,
   "metadata": {},
   "outputs": [
    {
     "data": {
      "text/html": [
       "<div>\n",
       "<style scoped>\n",
       "    .dataframe tbody tr th:only-of-type {\n",
       "        vertical-align: middle;\n",
       "    }\n",
       "\n",
       "    .dataframe tbody tr th {\n",
       "        vertical-align: top;\n",
       "    }\n",
       "\n",
       "    .dataframe thead th {\n",
       "        text-align: right;\n",
       "    }\n",
       "</style>\n",
       "<table border=\"1\" class=\"dataframe\">\n",
       "  <thead>\n",
       "    <tr style=\"text-align: right;\">\n",
       "      <th></th>\n",
       "      <th>id</th>\n",
       "      <th>diagnostico</th>\n",
       "      <th>exame_2</th>\n",
       "      <th>exame_5</th>\n",
       "      <th>exame_6</th>\n",
       "      <th>exame_7</th>\n",
       "      <th>exame_8</th>\n",
       "      <th>exame_9</th>\n",
       "      <th>exame_10</th>\n",
       "      <th>exame_11</th>\n",
       "      <th>...</th>\n",
       "      <th>exame_20</th>\n",
       "      <th>exame_21</th>\n",
       "      <th>exame_23</th>\n",
       "      <th>exame_25</th>\n",
       "      <th>exame_26</th>\n",
       "      <th>exame_27</th>\n",
       "      <th>exame_28</th>\n",
       "      <th>exame_30</th>\n",
       "      <th>exame_31</th>\n",
       "      <th>exame_32</th>\n",
       "    </tr>\n",
       "  </thead>\n",
       "  <tbody>\n",
       "    <tr>\n",
       "      <th>0</th>\n",
       "      <td>842302</td>\n",
       "      <td>M</td>\n",
       "      <td>10.38</td>\n",
       "      <td>1001.0</td>\n",
       "      <td>0.11840</td>\n",
       "      <td>0.27760</td>\n",
       "      <td>0.3001</td>\n",
       "      <td>0.14710</td>\n",
       "      <td>0.2419</td>\n",
       "      <td>0.07871</td>\n",
       "      <td>...</td>\n",
       "      <td>0.03003</td>\n",
       "      <td>0.006193</td>\n",
       "      <td>17.33</td>\n",
       "      <td>2019.0</td>\n",
       "      <td>0.1622</td>\n",
       "      <td>0.6656</td>\n",
       "      <td>0.7119</td>\n",
       "      <td>0.2654</td>\n",
       "      <td>0.4601</td>\n",
       "      <td>0.11890</td>\n",
       "    </tr>\n",
       "    <tr>\n",
       "      <th>1</th>\n",
       "      <td>842517</td>\n",
       "      <td>M</td>\n",
       "      <td>17.77</td>\n",
       "      <td>1326.0</td>\n",
       "      <td>0.08474</td>\n",
       "      <td>0.07864</td>\n",
       "      <td>0.0869</td>\n",
       "      <td>0.07017</td>\n",
       "      <td>0.1812</td>\n",
       "      <td>0.05667</td>\n",
       "      <td>...</td>\n",
       "      <td>0.01389</td>\n",
       "      <td>0.003532</td>\n",
       "      <td>23.41</td>\n",
       "      <td>1956.0</td>\n",
       "      <td>0.1238</td>\n",
       "      <td>0.1866</td>\n",
       "      <td>0.2416</td>\n",
       "      <td>0.1860</td>\n",
       "      <td>0.2750</td>\n",
       "      <td>0.08902</td>\n",
       "    </tr>\n",
       "    <tr>\n",
       "      <th>2</th>\n",
       "      <td>84300903</td>\n",
       "      <td>M</td>\n",
       "      <td>21.25</td>\n",
       "      <td>1203.0</td>\n",
       "      <td>0.10960</td>\n",
       "      <td>0.15990</td>\n",
       "      <td>0.1974</td>\n",
       "      <td>0.12790</td>\n",
       "      <td>0.2069</td>\n",
       "      <td>0.05999</td>\n",
       "      <td>...</td>\n",
       "      <td>0.02250</td>\n",
       "      <td>0.004571</td>\n",
       "      <td>25.53</td>\n",
       "      <td>1709.0</td>\n",
       "      <td>0.1444</td>\n",
       "      <td>0.4245</td>\n",
       "      <td>0.4504</td>\n",
       "      <td>0.2430</td>\n",
       "      <td>0.3613</td>\n",
       "      <td>0.08758</td>\n",
       "    </tr>\n",
       "    <tr>\n",
       "      <th>3</th>\n",
       "      <td>84348301</td>\n",
       "      <td>M</td>\n",
       "      <td>20.38</td>\n",
       "      <td>386.1</td>\n",
       "      <td>0.14250</td>\n",
       "      <td>0.28390</td>\n",
       "      <td>0.2414</td>\n",
       "      <td>0.10520</td>\n",
       "      <td>0.2597</td>\n",
       "      <td>0.09744</td>\n",
       "      <td>...</td>\n",
       "      <td>0.05963</td>\n",
       "      <td>0.009208</td>\n",
       "      <td>26.50</td>\n",
       "      <td>567.7</td>\n",
       "      <td>0.2098</td>\n",
       "      <td>0.8663</td>\n",
       "      <td>0.6869</td>\n",
       "      <td>0.2575</td>\n",
       "      <td>0.6638</td>\n",
       "      <td>0.17300</td>\n",
       "    </tr>\n",
       "    <tr>\n",
       "      <th>4</th>\n",
       "      <td>84358402</td>\n",
       "      <td>M</td>\n",
       "      <td>14.34</td>\n",
       "      <td>1297.0</td>\n",
       "      <td>0.10030</td>\n",
       "      <td>0.13280</td>\n",
       "      <td>0.1980</td>\n",
       "      <td>0.10430</td>\n",
       "      <td>0.1809</td>\n",
       "      <td>0.05883</td>\n",
       "      <td>...</td>\n",
       "      <td>0.01756</td>\n",
       "      <td>0.005115</td>\n",
       "      <td>16.67</td>\n",
       "      <td>1575.0</td>\n",
       "      <td>0.1374</td>\n",
       "      <td>0.2050</td>\n",
       "      <td>0.4000</td>\n",
       "      <td>0.1625</td>\n",
       "      <td>0.2364</td>\n",
       "      <td>0.07678</td>\n",
       "    </tr>\n",
       "  </tbody>\n",
       "</table>\n",
       "<p>5 rows × 28 columns</p>\n",
       "</div>"
      ],
      "text/plain": [
       "         id diagnostico  exame_2  exame_5  exame_6  exame_7  exame_8  exame_9   \n",
       "0    842302           M    10.38   1001.0  0.11840  0.27760   0.3001  0.14710  \\\n",
       "1    842517           M    17.77   1326.0  0.08474  0.07864   0.0869  0.07017   \n",
       "2  84300903           M    21.25   1203.0  0.10960  0.15990   0.1974  0.12790   \n",
       "3  84348301           M    20.38    386.1  0.14250  0.28390   0.2414  0.10520   \n",
       "4  84358402           M    14.34   1297.0  0.10030  0.13280   0.1980  0.10430   \n",
       "\n",
       "   exame_10  exame_11  ...  exame_20  exame_21  exame_23  exame_25  exame_26   \n",
       "0    0.2419   0.07871  ...   0.03003  0.006193     17.33    2019.0    0.1622  \\\n",
       "1    0.1812   0.05667  ...   0.01389  0.003532     23.41    1956.0    0.1238   \n",
       "2    0.2069   0.05999  ...   0.02250  0.004571     25.53    1709.0    0.1444   \n",
       "3    0.2597   0.09744  ...   0.05963  0.009208     26.50     567.7    0.2098   \n",
       "4    0.1809   0.05883  ...   0.01756  0.005115     16.67    1575.0    0.1374   \n",
       "\n",
       "   exame_27  exame_28  exame_30  exame_31  exame_32  \n",
       "0    0.6656    0.7119    0.2654    0.4601   0.11890  \n",
       "1    0.1866    0.2416    0.1860    0.2750   0.08902  \n",
       "2    0.4245    0.4504    0.2430    0.3613   0.08758  \n",
       "3    0.8663    0.6869    0.2575    0.6638   0.17300  \n",
       "4    0.2050    0.4000    0.1625    0.2364   0.07678  \n",
       "\n",
       "[5 rows x 28 columns]"
      ]
     },
     "execution_count": 91,
     "metadata": {},
     "output_type": "execute_result"
    }
   ],
   "source": [
    "base.head()"
   ]
  },
  {
   "cell_type": "code",
   "execution_count": 92,
   "metadata": {},
   "outputs": [],
   "source": [
    "# Dividindo inputs e outputs\n",
    "x = base.loc[:, 'exame_2':]\n",
    "y = base['diagnostico']"
   ]
  },
  {
   "cell_type": "code",
   "execution_count": 93,
   "metadata": {},
   "outputs": [
    {
     "data": {
      "text/plain": [
       "Index(['exame_2', 'exame_5', 'exame_6', 'exame_7', 'exame_8', 'exame_9',\n",
       "       'exame_10', 'exame_11', 'exame_12', 'exame_13', 'exame_14', 'exame_15',\n",
       "       'exame_16', 'exame_17', 'exame_18', 'exame_19', 'exame_20', 'exame_21',\n",
       "       'exame_23', 'exame_25', 'exame_26', 'exame_27', 'exame_28', 'exame_30',\n",
       "       'exame_31', 'exame_32'],\n",
       "      dtype='object')"
      ]
     },
     "execution_count": 93,
     "metadata": {},
     "output_type": "execute_result"
    }
   ],
   "source": [
    "x.columns"
   ]
  },
  {
   "cell_type": "code",
   "execution_count": 94,
   "metadata": {},
   "outputs": [
    {
     "data": {
      "text/html": [
       "<style>#sk-container-id-3 {color: black;background-color: white;}#sk-container-id-3 pre{padding: 0;}#sk-container-id-3 div.sk-toggleable {background-color: white;}#sk-container-id-3 label.sk-toggleable__label {cursor: pointer;display: block;width: 100%;margin-bottom: 0;padding: 0.3em;box-sizing: border-box;text-align: center;}#sk-container-id-3 label.sk-toggleable__label-arrow:before {content: \"▸\";float: left;margin-right: 0.25em;color: #696969;}#sk-container-id-3 label.sk-toggleable__label-arrow:hover:before {color: black;}#sk-container-id-3 div.sk-estimator:hover label.sk-toggleable__label-arrow:before {color: black;}#sk-container-id-3 div.sk-toggleable__content {max-height: 0;max-width: 0;overflow: hidden;text-align: left;background-color: #f0f8ff;}#sk-container-id-3 div.sk-toggleable__content pre {margin: 0.2em;color: black;border-radius: 0.25em;background-color: #f0f8ff;}#sk-container-id-3 input.sk-toggleable__control:checked~div.sk-toggleable__content {max-height: 200px;max-width: 100%;overflow: auto;}#sk-container-id-3 input.sk-toggleable__control:checked~label.sk-toggleable__label-arrow:before {content: \"▾\";}#sk-container-id-3 div.sk-estimator input.sk-toggleable__control:checked~label.sk-toggleable__label {background-color: #d4ebff;}#sk-container-id-3 div.sk-label input.sk-toggleable__control:checked~label.sk-toggleable__label {background-color: #d4ebff;}#sk-container-id-3 input.sk-hidden--visually {border: 0;clip: rect(1px 1px 1px 1px);clip: rect(1px, 1px, 1px, 1px);height: 1px;margin: -1px;overflow: hidden;padding: 0;position: absolute;width: 1px;}#sk-container-id-3 div.sk-estimator {font-family: monospace;background-color: #f0f8ff;border: 1px dotted black;border-radius: 0.25em;box-sizing: border-box;margin-bottom: 0.5em;}#sk-container-id-3 div.sk-estimator:hover {background-color: #d4ebff;}#sk-container-id-3 div.sk-parallel-item::after {content: \"\";width: 100%;border-bottom: 1px solid gray;flex-grow: 1;}#sk-container-id-3 div.sk-label:hover label.sk-toggleable__label {background-color: #d4ebff;}#sk-container-id-3 div.sk-serial::before {content: \"\";position: absolute;border-left: 1px solid gray;box-sizing: border-box;top: 0;bottom: 0;left: 50%;z-index: 0;}#sk-container-id-3 div.sk-serial {display: flex;flex-direction: column;align-items: center;background-color: white;padding-right: 0.2em;padding-left: 0.2em;position: relative;}#sk-container-id-3 div.sk-item {position: relative;z-index: 1;}#sk-container-id-3 div.sk-parallel {display: flex;align-items: stretch;justify-content: center;background-color: white;position: relative;}#sk-container-id-3 div.sk-item::before, #sk-container-id-3 div.sk-parallel-item::before {content: \"\";position: absolute;border-left: 1px solid gray;box-sizing: border-box;top: 0;bottom: 0;left: 50%;z-index: -1;}#sk-container-id-3 div.sk-parallel-item {display: flex;flex-direction: column;z-index: 1;position: relative;background-color: white;}#sk-container-id-3 div.sk-parallel-item:first-child::after {align-self: flex-end;width: 50%;}#sk-container-id-3 div.sk-parallel-item:last-child::after {align-self: flex-start;width: 50%;}#sk-container-id-3 div.sk-parallel-item:only-child::after {width: 0;}#sk-container-id-3 div.sk-dashed-wrapped {border: 1px dashed gray;margin: 0 0.4em 0.5em 0.4em;box-sizing: border-box;padding-bottom: 0.4em;background-color: white;}#sk-container-id-3 div.sk-label label {font-family: monospace;font-weight: bold;display: inline-block;line-height: 1.2em;}#sk-container-id-3 div.sk-label-container {text-align: center;}#sk-container-id-3 div.sk-container {/* jupyter's `normalize.less` sets `[hidden] { display: none; }` but bootstrap.min.css set `[hidden] { display: none !important; }` so we also need the `!important` here to be able to override the default hidden behavior on the sphinx rendered scikit-learn.org. See: https://github.com/scikit-learn/scikit-learn/issues/21755 */display: inline-block !important;position: relative;}#sk-container-id-3 div.sk-text-repr-fallback {display: none;}</style><div id=\"sk-container-id-3\" class=\"sk-top-container\"><div class=\"sk-text-repr-fallback\"><pre>SelectKBest(k=5)</pre><b>In a Jupyter environment, please rerun this cell to show the HTML representation or trust the notebook. <br />On GitHub, the HTML representation is unable to render, please try loading this page with nbviewer.org.</b></div><div class=\"sk-container\" hidden><div class=\"sk-item\"><div class=\"sk-estimator sk-toggleable\"><input class=\"sk-toggleable__control sk-hidden--visually\" id=\"sk-estimator-id-3\" type=\"checkbox\" checked><label for=\"sk-estimator-id-3\" class=\"sk-toggleable__label sk-toggleable__label-arrow\">SelectKBest</label><div class=\"sk-toggleable__content\"><pre>SelectKBest(k=5)</pre></div></div></div></div></div>"
      ],
      "text/plain": [
       "SelectKBest(k=5)"
      ]
     },
     "execution_count": 94,
     "metadata": {},
     "output_type": "execute_result"
    }
   ],
   "source": [
    "# Selecionando as k variáveis através de um teste F\n",
    "\n",
    "k_best_selector = SelectKBest(f_classif, k = 5)\n",
    "\n",
    "k_best_selector.fit(x,y)"
   ]
  },
  {
   "cell_type": "code",
   "execution_count": 95,
   "metadata": {},
   "outputs": [
    {
     "data": {
      "text/plain": [
       "array(['exame_5', 'exame_8', 'exame_9', 'exame_25', 'exame_30'],\n",
       "      dtype=object)"
      ]
     },
     "execution_count": 95,
     "metadata": {},
     "output_type": "execute_result"
    }
   ],
   "source": [
    "# Verificando quais as 10 melhores características:\n",
    "k_best_selector.get_feature_names_out()"
   ]
  },
  {
   "cell_type": "code",
   "execution_count": 96,
   "metadata": {},
   "outputs": [
    {
     "data": {
      "text/html": [
       "<div>\n",
       "<style scoped>\n",
       "    .dataframe tbody tr th:only-of-type {\n",
       "        vertical-align: middle;\n",
       "    }\n",
       "\n",
       "    .dataframe tbody tr th {\n",
       "        vertical-align: top;\n",
       "    }\n",
       "\n",
       "    .dataframe thead th {\n",
       "        text-align: right;\n",
       "    }\n",
       "</style>\n",
       "<table border=\"1\" class=\"dataframe\">\n",
       "  <thead>\n",
       "    <tr style=\"text-align: right;\">\n",
       "      <th></th>\n",
       "      <th>exame_2</th>\n",
       "      <th>exame_5</th>\n",
       "      <th>exame_6</th>\n",
       "      <th>exame_7</th>\n",
       "      <th>exame_8</th>\n",
       "      <th>exame_9</th>\n",
       "      <th>exame_10</th>\n",
       "      <th>exame_11</th>\n",
       "      <th>exame_12</th>\n",
       "      <th>exame_13</th>\n",
       "      <th>...</th>\n",
       "      <th>exame_20</th>\n",
       "      <th>exame_21</th>\n",
       "      <th>exame_23</th>\n",
       "      <th>exame_25</th>\n",
       "      <th>exame_26</th>\n",
       "      <th>exame_27</th>\n",
       "      <th>exame_28</th>\n",
       "      <th>exame_30</th>\n",
       "      <th>exame_31</th>\n",
       "      <th>exame_32</th>\n",
       "    </tr>\n",
       "  </thead>\n",
       "  <tbody>\n",
       "    <tr>\n",
       "      <th>0</th>\n",
       "      <td>4.058636e-25</td>\n",
       "      <td>4.734564e-88</td>\n",
       "      <td>1.051850e-18</td>\n",
       "      <td>3.938263e-56</td>\n",
       "      <td>9.966556e-84</td>\n",
       "      <td>7.101150e-116</td>\n",
       "      <td>5.733384e-16</td>\n",
       "      <td>0.759937</td>\n",
       "      <td>9.738949e-50</td>\n",
       "      <td>0.843332</td>\n",
       "      <td>...</td>\n",
       "      <td>0.876642</td>\n",
       "      <td>0.063074</td>\n",
       "      <td>1.078057e-30</td>\n",
       "      <td>2.828848e-97</td>\n",
       "      <td>6.575144e-26</td>\n",
       "      <td>7.069816e-55</td>\n",
       "      <td>2.464664e-72</td>\n",
       "      <td>1.969100e-124</td>\n",
       "      <td>2.951121e-25</td>\n",
       "      <td>2.316432e-15</td>\n",
       "    </tr>\n",
       "  </tbody>\n",
       "</table>\n",
       "<p>1 rows × 26 columns</p>\n",
       "</div>"
      ],
      "text/plain": [
       "        exame_2       exame_5       exame_6       exame_7       exame_8   \n",
       "0  4.058636e-25  4.734564e-88  1.051850e-18  3.938263e-56  9.966556e-84  \\\n",
       "\n",
       "         exame_9      exame_10  exame_11      exame_12  exame_13  ...   \n",
       "0  7.101150e-116  5.733384e-16  0.759937  9.738949e-50  0.843332  ...  \\\n",
       "\n",
       "   exame_20  exame_21      exame_23      exame_25      exame_26      exame_27   \n",
       "0  0.876642  0.063074  1.078057e-30  2.828848e-97  6.575144e-26  7.069816e-55  \\\n",
       "\n",
       "       exame_28       exame_30      exame_31      exame_32  \n",
       "0  2.464664e-72  1.969100e-124  2.951121e-25  2.316432e-15  \n",
       "\n",
       "[1 rows x 26 columns]"
      ]
     },
     "execution_count": 96,
     "metadata": {},
     "output_type": "execute_result"
    }
   ],
   "source": [
    "# Verificando os p-valores para cada característica:\n",
    "pd.DataFrame(dict(zip(k_best_selector.feature_names_in_, k_best_selector.pvalues_)), index=[0])"
   ]
  },
  {
   "cell_type": "code",
   "execution_count": 97,
   "metadata": {},
   "outputs": [
    {
     "data": {
      "text/html": [
       "<div>\n",
       "<style scoped>\n",
       "    .dataframe tbody tr th:only-of-type {\n",
       "        vertical-align: middle;\n",
       "    }\n",
       "\n",
       "    .dataframe tbody tr th {\n",
       "        vertical-align: top;\n",
       "    }\n",
       "\n",
       "    .dataframe thead th {\n",
       "        text-align: right;\n",
       "    }\n",
       "</style>\n",
       "<table border=\"1\" class=\"dataframe\">\n",
       "  <thead>\n",
       "    <tr style=\"text-align: right;\">\n",
       "      <th></th>\n",
       "      <th>exame_2</th>\n",
       "      <th>exame_5</th>\n",
       "      <th>exame_6</th>\n",
       "      <th>exame_7</th>\n",
       "      <th>exame_8</th>\n",
       "      <th>exame_9</th>\n",
       "      <th>exame_10</th>\n",
       "      <th>exame_11</th>\n",
       "      <th>exame_12</th>\n",
       "      <th>exame_13</th>\n",
       "      <th>...</th>\n",
       "      <th>exame_20</th>\n",
       "      <th>exame_21</th>\n",
       "      <th>exame_23</th>\n",
       "      <th>exame_25</th>\n",
       "      <th>exame_26</th>\n",
       "      <th>exame_27</th>\n",
       "      <th>exame_28</th>\n",
       "      <th>exame_30</th>\n",
       "      <th>exame_31</th>\n",
       "      <th>exame_32</th>\n",
       "    </tr>\n",
       "  </thead>\n",
       "  <tbody>\n",
       "    <tr>\n",
       "      <th>0</th>\n",
       "      <td>118.096059</td>\n",
       "      <td>573.060747</td>\n",
       "      <td>83.651123</td>\n",
       "      <td>313.233079</td>\n",
       "      <td>533.793126</td>\n",
       "      <td>861.67602</td>\n",
       "      <td>69.527444</td>\n",
       "      <td>0.093459</td>\n",
       "      <td>268.840327</td>\n",
       "      <td>0.039095</td>\n",
       "      <td>...</td>\n",
       "      <td>0.024117</td>\n",
       "      <td>3.468275</td>\n",
       "      <td>149.596905</td>\n",
       "      <td>661.600206</td>\n",
       "      <td>122.47288</td>\n",
       "      <td>304.341063</td>\n",
       "      <td>436.691939</td>\n",
       "      <td>964.385393</td>\n",
       "      <td>118.860232</td>\n",
       "      <td>66.443961</td>\n",
       "    </tr>\n",
       "  </tbody>\n",
       "</table>\n",
       "<p>1 rows × 26 columns</p>\n",
       "</div>"
      ],
      "text/plain": [
       "      exame_2     exame_5    exame_6     exame_7     exame_8    exame_9   \n",
       "0  118.096059  573.060747  83.651123  313.233079  533.793126  861.67602  \\\n",
       "\n",
       "    exame_10  exame_11    exame_12  exame_13  ...  exame_20  exame_21   \n",
       "0  69.527444  0.093459  268.840327  0.039095  ...  0.024117  3.468275  \\\n",
       "\n",
       "     exame_23    exame_25   exame_26    exame_27    exame_28    exame_30   \n",
       "0  149.596905  661.600206  122.47288  304.341063  436.691939  964.385393  \\\n",
       "\n",
       "     exame_31   exame_32  \n",
       "0  118.860232  66.443961  \n",
       "\n",
       "[1 rows x 26 columns]"
      ]
     },
     "execution_count": 97,
     "metadata": {},
     "output_type": "execute_result"
    }
   ],
   "source": [
    "# Verificando os scores para cada característica:\n",
    "pd.DataFrame(dict(zip(k_best_selector.feature_names_in_, k_best_selector.scores_)), index=[0])"
   ]
  },
  {
   "cell_type": "code",
   "execution_count": 98,
   "metadata": {},
   "outputs": [],
   "source": [
    "# Definindo função para testar o modelo\n",
    "\n",
    "def testa_modelo(base, caracteristicas_excluidas=[]):\n",
    "\n",
    "    # Definindo inputs e outputs\n",
    "    x2 = base.drop(['id', 'diagnostico'] + caracteristicas_excluidas, axis = 1).values\n",
    "    y2 = base['diagnostico'].values.ravel()\n",
    "\n",
    "    # Definindo a random seed\n",
    "    SEED = 30\n",
    "\n",
    "    # Definindo a random seed do numpy\n",
    "    np.random.seed(SEED)\n",
    "\n",
    "    # Dividindo os dados em treino e teste\n",
    "    x_train, x_test, y_train, y_test = train_test_split(x2, y2, test_size = 0.3)\n",
    "\n",
    "    # Instanciando e treinando o modelo a ser treinado\n",
    "    rfc = RandomForestClassifier(n_estimators=100)\n",
    "    rfc.fit(x_train, y_train)\n",
    "    previsao = rfc.predict(x_test)\n",
    "\n",
    "    # Transformando B em 0 e M em 1\n",
    "    dict_transform = {\n",
    "        'B': 0,\n",
    "        'M': 1\n",
    "    }\n",
    "\n",
    "    previsao_transform = [dict_transform[diagnostico] for diagnostico in previsao]\n",
    "    y_test_transform = [dict_transform[diagnostico] for diagnostico in y_test]\n",
    "\n",
    "    # Calculando as métricas para esse modelo:\n",
    "    acuracia = accuracy_score(y_test_transform, previsao_transform)*100\n",
    "    precisao = precision_score(y_test_transform, previsao_transform)*100\n",
    "    recall = recall_score(y_test_transform, previsao_transform)*100\n",
    "    matriz_confusao = confusion_matrix(y_test_transform, previsao_transform)\n",
    "\n",
    "    print(f'Acurácia: {acuracia:.2f}%')\n",
    "    print(f'Precisão: {precisao:.2f}%')\n",
    "    print(f'Recall: {recall:.2f}%')\n",
    "\n",
    "    sns.heatmap(matriz_confusao, annot = True, fmt='d').set(xlabel = 'Predição', ylabel = 'Real')\n",
    "    plt.show()"
   ]
  },
  {
   "cell_type": "code",
   "execution_count": 99,
   "metadata": {},
   "outputs": [
    {
     "name": "stdout",
     "output_type": "stream",
     "text": [
      "Acurácia: 94.74%\n",
      "Precisão: 93.44%\n",
      "Recall: 91.94%\n"
     ]
    },
    {
     "data": {
      "image/png": "[encoded data removed]",
      "text/plain": [
       "<Figure size 640x480 with 2 Axes>"
      ]
     },
     "metadata": {},
     "output_type": "display_data"
    }
   ],
   "source": [
    "# Criando um modelo apenas com as características selecionadas pelo k_best_selector:\n",
    "caracteristicas = list(k_best_selector.get_feature_names_out())\n",
    "\n",
    "testa_modelo(base, caracteristicas)"
   ]
  },
  {
   "cell_type": "code",
   "execution_count": 100,
   "metadata": {},
   "outputs": [
    {
     "name": "stdout",
     "output_type": "stream",
     "text": [
      "Acurácia: 95.91%\n",
      "Precisão: 96.61%\n",
      "Recall: 91.94%\n"
     ]
    },
    {
     "data": {
      "image/png": "[encoded data removed]",
      "text/plain": [
       "<Figure size 640x480 with 2 Axes>"
      ]
     },
     "metadata": {},
     "output_type": "display_data"
    }
   ],
   "source": [
    "# Testando o modelo sem excluir nenhuma característa:\n",
    "testa_modelo(base)"
   ]
  },
  {
   "cell_type": "code",
   "execution_count": 101,
   "metadata": {},
   "outputs": [],
   "source": [
    "# É possível também utilizar o RFE para selecionar as melhores características do modelo"
   ]
  },
  {
   "attachments": {},
   "cell_type": "markdown",
   "metadata": {},
   "source": [
    "Apesar de existir uma redução no score de acurácia e precisão do modelo, não houve alteração no score de recall - ou seja, o modelo continuou identificando a mesma proporção de casos malignos do total de casos maligons. Com essa é a métrica mais importante para o modelo em questão, é possível utilizar o modelo apenas com essas 5 características."
   ]
  },
  {
   "cell_type": "code",
   "execution_count": 102,
   "metadata": {},
   "outputs": [],
   "source": [
    "base.drop(caracteristicas, axis = 1).to_csv(r'exames-tratado-4.csv')"
   ]
  }
 ],
 "metadata": {
  "kernelspec": {
   "display_name": "Python 3",
   "language": "python",
   "name": "python3"
  },
  "language_info": {
   "codemirror_mode": {
    "name": "ipython",
    "version": 3
   },
   "file_extension": ".py",
   "mimetype": "text/x-python",
   "name": "python",
   "nbconvert_exporter": "python",
   "pygments_lexer": "ipython3",
   "version": "3.11.0"
  },
  "orig_nbformat": 4
 },
 "nbformat": 4,
 "nbformat_minor": 2
}
